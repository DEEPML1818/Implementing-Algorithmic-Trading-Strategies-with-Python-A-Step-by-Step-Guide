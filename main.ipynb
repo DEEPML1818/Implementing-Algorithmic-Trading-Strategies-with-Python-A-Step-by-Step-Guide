{
 "cells": [
  {
   "cell_type": "code",
   "execution_count": null,
   "metadata": {},
   "outputs": [],
   "source": [
    "import pandas as pd\n",
    "import yfinance as yf\n",
    "import numpy as np\n",
    "\n",
    "def download_stock_data(symbol, start_date, end_date):\n",
    "    stock_data = yf.download(symbol, start=start_date, end=end_date)\n",
    "    return stock_data\n",
    "\n",
    "def generate_signals(data):\n",
    "    signals = pd.DataFrame(index=data.index)\n",
    "    signals['signal'] = 0.0\n",
    "    print(data)\n",
    "\n",
    "    # Create a short simple moving average over the short window\n",
    "    signals['short_mavg'] = data['Close'].rolling(window=40, min_periods=1, center=False).mean()\n",
    "\n",
    "    # Create a long simple moving average over the long window\n",
    "    signals['long_mavg'] = data['Close'].rolling(window=100, min_periods=1, center=False).mean()\n",
    "\n",
    "    # Create signals\n",
    "    signals['signal'][40:] = np.where(signals['short_mavg'][40:] > signals['long_mavg'][40:], 1.0, 0.0)\n",
    "\n",
    "    # Generate trading orders\n",
    "    signals['positions'] = signals['signal'].diff()\n",
    "\n",
    "    return signals\n",
    "\n",
    "def backtest_strategy(signals, initial_capital=100000):\n",
    "    positions = pd.DataFrame(index=signals.index).fillna(0.0)\n",
    "    positions['stock'] = 100 * signals['signal']   # Buy 100 shares on each buy signal\n",
    "\n",
    "    # Initialize the portfolio with value owned\n",
    "    portfolio = positions.multiply(data['Adj Close'], axis=0)\n",
    "\n",
    "    # Store the difference in shares owned\n",
    "    pos_diff = positions.diff()\n",
    "\n",
    "    # Add 'cash' to portfolio\n",
    "    portfolio['cash'] = initial_capital - (pos_diff.multiply(data['Adj Close'], axis=0)).cumsum()\n",
    "\n",
    "    # Add 'total' to portfolio\n",
    "    portfolio['total'] = portfolio['cash'] + portfolio['stock']\n",
    "\n",
    "    return portfolio\n",
    "\n",
    "if __name__ == \"__main__\":\n",
    "    symbol = 'AAPL'\n",
    "    start_date = '2022-01-01'\n",
    "    end_date = '2023-01-01'\n",
    "\n",
    "    # Download historical stock data\n",
    "    data = download_stock_data(symbol, start_date, end_date)\n",
    "\n",
    "    # Generate trading signals\n",
    "    signals = generate_signals(data)\n",
    "\n",
    "    # Backtest the trading strategy\n",
    "    portfolio = backtest_strategy(signals)\n",
    "\n",
    "    # Print the portfolio\n",
    "    display(portfolio)"
   ]
  }
 ],
 "metadata": {
  "kernelspec": {
   "display_name": "ChatDev_conda_env",
   "language": "python",
   "name": "python3"
  },
  "language_info": {
   "name": "python",
   "version": "3.9.18 (main, Sep 11 2023, 14:09:26) [MSC v.1916 64 bit (AMD64)]"
  },
  "orig_nbformat": 4,
  "vscode": {
   "interpreter": {
    "hash": "a665defb83a927bd4053918d4c203ab8d82b0e5c79103f0a0a551054b3246493"
   }
  }
 },
 "nbformat": 4,
 "nbformat_minor": 2
}
